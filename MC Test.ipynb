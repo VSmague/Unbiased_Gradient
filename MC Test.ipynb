{
 "cells": [
  {
   "cell_type": "code",
   "execution_count": 1,
   "metadata": {},
   "outputs": [],
   "source": [
    "import numpy as np\n",
    "from scipy.stats import geom, multivariate_normal"
   ]
  },
  {
   "cell_type": "code",
   "execution_count": 15,
   "metadata": {},
   "outputs": [],
   "source": [
    "from scipy.optimize import minimize"
   ]
  },
  {
   "cell_type": "code",
   "execution_count": 2,
   "metadata": {},
   "outputs": [],
   "source": [
    "N_sample = 1024\n",
    "dim_x = 20\n",
    "dim_z = 20\n",
    "r = 0.6\n"
   ]
  },
  {
   "cell_type": "code",
   "execution_count": 3,
   "metadata": {},
   "outputs": [],
   "source": [
    "def p_theta_x(theta):\n",
    "    mu = theta\n",
    "    covariance = 2 * np.eye(dim_x)\n",
    "    return multivariate_normal(mean=mu, cov=covariance)\n",
    "\n",
    "def p_theta_x_given_z(z):\n",
    "    mu = z\n",
    "    covariance = np.eye(dim_x)\n",
    "    return multivariate_normal(mean=mu, cov=covariance)\n",
    "\n",
    "def p_theta_z(theta):\n",
    "    mu = theta\n",
    "    covariance = np.eye(dim_z)\n",
    "    return multivariate_normal(mean=mu, cov=covariance)\n",
    "\n",
    "p = geom\n",
    "\n",
    "def logmeanexp(data, axis=None):\n",
    "    max_val = np.max(data, axis=axis)\n",
    "    return max_val + np.log(np.mean(np.exp(data - max_val), axis=axis))"
   ]
  },
  {
   "cell_type": "markdown",
   "metadata": {},
   "source": [
    "Simulation des observations x : on fixe theta_0 qui sera estimé par la suite. "
   ]
  },
  {
   "cell_type": "code",
   "execution_count": 5,
   "metadata": {},
   "outputs": [
    {
     "name": "stdout",
     "output_type": "stream",
     "text": [
      "[[-0.36198458  1.83326535  3.44773523  3.20245931  6.95326216  5.62672769\n",
      "   3.86313666  9.35129607  8.03692123  9.49520592 10.76627178  8.19647969\n",
      "  14.31245154 13.84770641 16.98895568 17.24321066 17.49234977 19.65081174\n",
      "  18.91208332 19.30810068]\n",
      " [ 3.24508534  2.69624654  3.09693583  4.53538671  4.94141811  6.60038776\n",
      "   4.63585538  6.4480126   7.98035145  8.6297854   8.81499425 13.93746605\n",
      "  12.52637103 12.71976865 14.6728023  16.0704305  18.05753615 15.72401424\n",
      "  20.72180722 21.09564372]]\n",
      "-35.42179933119693\n"
     ]
    }
   ],
   "source": [
    "theta_0 = (1, 2, 3, 4, 5, 6, 7, 8, 9, 10, 11, 12, 13, 14, 15, 16, 17, 18, 19, 20)\n",
    "X = p_theta_x(theta_0).rvs(size=N_sample)\n",
    "print(X[:2])\n",
    "\n",
    "l_true = np.mean(np.log(p_theta_x(theta_0).pdf(X)))\n",
    "print(l_true)"
   ]
  },
  {
   "cell_type": "code",
   "execution_count": 7,
   "metadata": {},
   "outputs": [],
   "source": [
    "A = 1 / 2 * np.eye(dim_z, dim_x) #size = dim_z, dim_x\n",
    "b = np.mean(X, axis=0) #size = dim_z, 1"
   ]
  },
  {
   "cell_type": "code",
   "execution_count": 8,
   "metadata": {},
   "outputs": [],
   "source": [
    "def q_phi_z_given_x(x):\n",
    "    mu = A @ x + b\n",
    "    covariance = 2 / 3 * np.eye(dim_z)\n",
    "    return multivariate_normal(mean=mu, cov=covariance)"
   ]
  },
  {
   "cell_type": "code",
   "execution_count": 10,
   "metadata": {},
   "outputs": [],
   "source": [
    "l_hat_ml_ss_list = []\n",
    "l_hat_ml_rr_list = []\n",
    "l_hat_iwae_list = []\n",
    "l_hat_sumo_list = []\n"
   ]
  },
  {
   "cell_type": "code",
   "execution_count": 12,
   "metadata": {},
   "outputs": [
    {
     "name": "stderr",
     "output_type": "stream",
     "text": [
      "/tmp/ipykernel_23636/215974596.py:9: RuntimeWarning: divide by zero encountered in log\n",
      "  log_weights = [np.log(p_theta_z(theta_0).pdf(z) * p_theta_x_given_z(z).pdf(x) / q_phi_z_given_x(x).pdf(z)) for z in Z]\n",
      "/tmp/ipykernel_23636/217849312.py:20: RuntimeWarning: invalid value encountered in subtract\n",
      "  return max_val + np.log(np.mean(np.exp(data - max_val), axis=axis))\n"
     ]
    }
   ],
   "source": [
    "for x in X:\n",
    "    \n",
    "    K = p.rvs(r)\n",
    "    size = 2 ** (K + 1)\n",
    "    \n",
    "    Z = q_phi_z_given_x(x).rvs(size=size)\n",
    "    Z_E, Z_O = Z[::2], Z[1::2]\n",
    "    \n",
    "    log_weights = [np.log(p_theta_z(theta_0).pdf(z) * p_theta_x_given_z(z).pdf(x) / q_phi_z_given_x(x).pdf(z)) for z in Z]\n",
    "    log_weights_E, log_weights_O = log_weights[::2], log_weights[1::2]\n",
    "    \n",
    "    I_0 = np.mean(log_weights)\n",
    "    l_hat_E, l_hat_O = logmeanexp(log_weights_E), logmeanexp(log_weights_O)\n",
    "    l_hat_O_E = logmeanexp(log_weights)\n",
    "    \n",
    "    delta_K = l_hat_O_E - 0.5 * (l_hat_O + l_hat_E)\n",
    "    l_hat_ml_ss_x = I_0 + delta_K / p(r).pmf(K)\n",
    "    l_hat_ml_ss_list.append(l_hat_ml_ss_x)\n",
    "    \n",
    "    delta_k_list_rr = [logmeanexp(log_weights[:2**(k+1)]) - 0.5 * (logmeanexp(log_weights_O[:2**k]) + logmeanexp(log_weights_E[:2**k])) for k in range(K+1)]\n",
    "    l_hat_ml_rr_x = I_0 + np.sum([delta_k_list_rr[k] / (1 - p(r).cdf(k-1)) for k in range(K+1)])\n",
    "    l_hat_ml_rr_list.append(l_hat_ml_rr_x)\n",
    "\n",
    "    l_hat_iwae_list.append(logmeanexp(log_weights))\n",
    "\n",
    "    delta_k_list_sumo = [logmeanexp(log_weights[:2**(k+1)]) - logmeanexp(log_weights[:2**k]) for k in range(K+1)]\n",
    "    l_hat_sumo_x = I_0 + np.sum([delta_k_list_sumo[k] / (1 - p(r).cdf(k-1)) for k in range(K+1)])\n",
    "    l_hat_sumo_list.append(l_hat_sumo_x)"
   ]
  },
  {
   "cell_type": "code",
   "execution_count": 14,
   "metadata": {},
   "outputs": [
    {
     "name": "stdout",
     "output_type": "stream",
     "text": [
      "estimateur ss = nan\n",
      "estimateur rr = nan\n",
      "estimateur iwae = nan\n",
      "estimateur sumo = nan\n",
      "carré du biais empirique de l'estimateur ss : nan\n",
      "carré du biais empirique de l'estimateur rr : nan\n",
      "carré du biais empirique de l'estimateur iwae : nan\n",
      "carré du biais empirique de l'estimateur sumo : nan\n"
     ]
    }
   ],
   "source": [
    "l_hat_ml_ss = np.mean(l_hat_ml_ss_list)\n",
    "print(\"estimateur ss =\", l_hat_ml_ss)\n",
    "\n",
    "l_hat_ml_rr = np.mean(l_hat_ml_rr_list)\n",
    "print(\"estimateur rr =\", l_hat_ml_rr)\n",
    "\n",
    "l_hat_iwae = np.mean(l_hat_iwae_list)\n",
    "print(\"estimateur iwae =\", l_hat_iwae)\n",
    "\n",
    "l_hat_sumo = np.mean(l_hat_sumo_list)\n",
    "print(\"estimateur sumo =\", l_hat_sumo)\n",
    "\n",
    "empirical_bias_squared_ss = (l_hat_ml_ss - l_true) ** 2\n",
    "print(\"carré du biais empirique de l'estimateur ss :\", empirical_bias_squared_ss)\n",
    "\n",
    "empirical_bias_squared_rr = (l_hat_ml_rr - l_true) ** 2\n",
    "print(\"carré du biais empirique de l'estimateur rr :\", empirical_bias_squared_rr)\n",
    "\n",
    "empirical_bias_squared_iwae = (l_hat_iwae - l_true) ** 2\n",
    "print(\"carré du biais empirique de l'estimateur iwae :\", empirical_bias_squared_iwae)\n",
    "\n",
    "empirical_bias_squared_sumo = (l_hat_sumo - l_true) ** 2\n",
    "print(\"carré du biais empirique de l'estimateur sumo :\", empirical_bias_squared_sumo)"
   ]
  },
  {
   "cell_type": "code",
   "execution_count": 17,
   "metadata": {},
   "outputs": [],
   "source": [
    "# Définition de l'estimateur \n",
    "def estimateur_ml_ss(theta, x):\n",
    "    Z = q_phi_z_given_x(x).rvs(size=size)\n",
    "    Z_E, Z_O = Z[::2], Z[1::2]\n",
    "    log_weights = [np.log(p_theta_z(theta).pdf(z) * p_theta_x_given_z(z).pdf(x) / q_phi_z_given_x(x).pdf(z)) for z in Z]\n",
    "    log_weights_E, log_weights_O = log_weights[::2], log_weights[1::2]\n",
    "    I_0 = np.mean(log_weights)\n",
    "    l_hat_E, l_hat_O = logmeanexp(log_weights_E), logmeanexp(log_weights_O)\n",
    "    l_hat_O_E = logmeanexp(log_weights)\n",
    "    delta_K = l_hat_O_E - 0.5 * (l_hat_O + l_hat_E)\n",
    "    l_hat_ml_ss_x = I_0 + delta_K / p(r).pmf(K)\n",
    "    \n",
    "    \n",
    "    \n",
    "    \n",
    "    # Retourner l'estimation\n",
    "    return l_hat_ml_ss_x\n",
    "\n",
    "def aggregate_estimator_ml_ss(theta):\n",
    "    l_hat_ml_ss_list = []\n",
    "\n",
    "    for x in X:\n",
    "        l_hat_ml_ss_list.append(estimateur_ml_ss(theta, x))\n",
    "    return np.mean(l_hat_ml_ss_list)\n",
    "    \n"
   ]
  },
  {
   "cell_type": "code",
   "execution_count": 20,
   "metadata": {},
   "outputs": [
    {
     "name": "stderr",
     "output_type": "stream",
     "text": [
      "/tmp/ipykernel_23636/2489936819.py:5: RuntimeWarning: divide by zero encountered in log\n",
      "  log_weights = [np.log(p_theta_z(theta).pdf(z) * p_theta_x_given_z(z).pdf(x) / q_phi_z_given_x(x).pdf(z)) for z in Z]\n",
      "/tmp/ipykernel_23636/217849312.py:20: RuntimeWarning: invalid value encountered in subtract\n",
      "  return max_val + np.log(np.mean(np.exp(data - max_val), axis=axis))\n"
     ]
    },
    {
     "name": "stdout",
     "output_type": "stream",
     "text": [
      "Theta optimal trouvé par l'optimisation: [-0.77817354  1.28672765 -0.61929193 -3.05927229 -1.2251555   1.0795783\n",
      "  1.66435668  0.52353452  0.79062414 -0.97544221  1.9209496   1.20537603\n",
      "  3.17550023  2.49634022 -0.87951735  2.14183195 -0.25013713  2.75519566\n",
      "  1.36497097  1.01526797]\n"
     ]
    }
   ],
   "source": [
    "\n",
    "# Définir une fonction objectif pour l'optimisation\n",
    "def objectif_ml_ss(theta):\n",
    "    return -aggregate_estimator_ml_ss(theta)  # On minimise l'opposé de l'estimateur\n",
    "\n",
    "# Supposer une valeur initiale pour theta\n",
    "theta_init = np.random.randn(20)\n",
    "\n",
    "# Minimiser la fonction objectif pour trouver theta optimal\n",
    "resultat_optimisation = minimize(objectif_ml_ss, theta_init)\n",
    "\n",
    "# Récupérer le theta optimal trouvé par l'optimisation\n",
    "theta_optimal = resultat_optimisation.x\n",
    "\n",
    "# Imprimer le résultat\n",
    "print(\"Theta optimal trouvé par l'optimisation:\", theta_optimal)"
   ]
  }
 ],
 "metadata": {
  "kernelspec": {
   "display_name": "base",
   "language": "python",
   "name": "python3"
  },
  "language_info": {
   "codemirror_mode": {
    "name": "ipython",
    "version": 3
   },
   "file_extension": ".py",
   "mimetype": "text/x-python",
   "name": "python",
   "nbconvert_exporter": "python",
   "pygments_lexer": "ipython3",
   "version": "3.11.6"
  }
 },
 "nbformat": 4,
 "nbformat_minor": 2
}
