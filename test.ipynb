{
 "cells": [
  {
   "cell_type": "code",
   "execution_count": 7,
   "metadata": {},
   "outputs": [],
   "source": [
    "import numpy as np\n",
    "from scipy.stats import geom, multivariate_normal"
   ]
  },
  {
   "cell_type": "code",
   "execution_count": 25,
   "metadata": {},
   "outputs": [],
   "source": [
    "n_x = 20\n",
    "n_z = 20\n",
    "#A = size = n_z, n_x\n",
    "#b = size = n_z, 1\n",
    "\n",
    "def q_phi(x):\n",
    "    mu = A @ x + b\n",
    "    covariance = 2 / 3 * np.eye(n_z)\n",
    "    return multivariate_normal(mean=mu, cov=covariance)\n",
    "\n",
    "def p_theta(theta):\n",
    "    mu = theta\n",
    "    covariance = 2 * np.eye(n_x)\n",
    "    return multivariate_normal(mean=mu, cov=covariance)\n",
    "\n",
    "\n",
    "p = geom\n",
    "r = 0.6\n",
    "\n",
    "def logmeanexp(data, axis=None):\n",
    "    max_val = np.max(data, axis=axis)\n",
    "    return max_val + np.log(np.mean(np.exp(data - max_val), axis=axis))"
   ]
  },
  {
   "cell_type": "code",
   "execution_count": 26,
   "metadata": {},
   "outputs": [
    {
     "name": "stdout",
     "output_type": "stream",
     "text": [
      "2\n"
     ]
    }
   ],
   "source": [
    "K = p.rvs(r)\n",
    "size = 2 ** (K + 1)\n",
    "print(K)"
   ]
  },
  {
   "cell_type": "code",
   "execution_count": 29,
   "metadata": {},
   "outputs": [
    {
     "name": "stdout",
     "output_type": "stream",
     "text": [
      "[[ 9.3202681   8.81218288  5.12285399  7.31247107  8.93098337  8.95831285\n",
      "   5.73910914  5.65676393  6.65925569 10.30061467  6.78588316  7.01575551\n",
      "  10.63648887  9.39163455  6.57905734  8.15018817  9.89773672  8.85457616\n",
      "   6.68365735  9.08616354]\n",
      " [ 9.41890537  8.67855439  7.01372266  6.2776782   8.87902822  8.57002038\n",
      "   7.70731239  7.63449764 10.0148274   7.38254875  7.764777    9.48985394\n",
      "   8.8937638   6.148231    7.22821369 10.30664621  8.12328976  7.73075144\n",
      "   8.85203508  8.99445784]]\n",
      "(8, 20)\n"
     ]
    }
   ],
   "source": [
    "theta_0 = [8] * n_x\n",
    "theta_0 = np.array(theta_0)\n",
    "X = p_theta(theta_0).rvs(size=size)\n",
    "print(X[:2])\n",
    "print(X.shape)"
   ]
  },
  {
   "cell_type": "code",
   "execution_count": null,
   "metadata": {},
   "outputs": [],
   "source": [
    "Z = [q_phi(x).rvs() for x in X]\n",
    "Z_E, Z_O = Z[::2], Z[1::2]\n",
    "weights = \n",
    "log_weights = log(weights)\n",
    "I_0 = np.mean(log_weights)\n"
   ]
  }
 ],
 "metadata": {
  "kernelspec": {
   "display_name": "base",
   "language": "python",
   "name": "python3"
  },
  "language_info": {
   "codemirror_mode": {
    "name": "ipython",
    "version": 3
   },
   "file_extension": ".py",
   "mimetype": "text/x-python",
   "name": "python",
   "nbconvert_exporter": "python",
   "pygments_lexer": "ipython3",
   "version": "3.11.6"
  }
 },
 "nbformat": 4,
 "nbformat_minor": 2
}
