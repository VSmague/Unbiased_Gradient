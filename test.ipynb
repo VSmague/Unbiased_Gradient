{
 "cells": [
  {
   "cell_type": "code",
   "execution_count": 66,
   "metadata": {},
   "outputs": [],
   "source": [
    "import numpy as np\n",
    "from scipy.stats import geom, multivariate_normal"
   ]
  },
  {
   "cell_type": "markdown",
   "metadata": {},
   "source": [
    "On fixe les paramètres."
   ]
  },
  {
   "cell_type": "code",
   "execution_count": 67,
   "metadata": {},
   "outputs": [],
   "source": [
    "N_sample = 1024\n",
    "dim_x = 20\n",
    "dim_z = 20\n",
    "r = 0.6"
   ]
  },
  {
   "cell_type": "markdown",
   "metadata": {},
   "source": [
    "On définit les fonctions utiles au projet."
   ]
  },
  {
   "cell_type": "code",
   "execution_count": null,
   "metadata": {},
   "outputs": [],
   "source": [
    "def p_theta_x(theta):\n",
    "    mu = theta\n",
    "    covariance = 2 * np.eye(dim_x)\n",
    "    return multivariate_normal(mean=mu, cov=covariance)\n",
    "\n",
    "def p_theta_x_given_z(z):\n",
    "    mu = z\n",
    "    covariance = np.eye(dim_x)\n",
    "    return multivariate_normal(mean=mu, cov=covariance)\n",
    "\n",
    "def p_theta_z(theta):\n",
    "    mu = theta\n",
    "    covariance = np.eye(dim_z)\n",
    "    return multivariate_normal(mean=mu, cov=covariance)\n",
    "\n",
    "p = geom\n",
    "\n",
    "def logmeanexp(data, axis=None):\n",
    "    max_val = np.max(data, axis=axis)\n",
    "    return max_val + np.log(np.mean(np.exp(data - max_val), axis=axis))"
   ]
  },
  {
   "cell_type": "markdown",
   "metadata": {},
   "source": [
    "On simule theta et les observations. On calcule la log-vraisemblance."
   ]
  },
  {
   "cell_type": "code",
   "execution_count": 68,
   "metadata": {},
   "outputs": [
    {
     "name": "stdout",
     "output_type": "stream",
     "text": [
      "[[ 0.18807516  3.6219837  -0.05673272  2.55198827  2.38782273  3.25355657\n",
      "  -0.00917009 -1.40009828  0.79325289 -0.99503646 -1.26296588  1.41633594\n",
      "  -1.37389288  1.08842123 -0.6537514   0.30837661  0.06512314 -0.22977623\n",
      "  -2.16468235  0.22783729]\n",
      " [-0.45688022  1.71982854 -1.29283098  1.28492627  1.92415116  0.49088385\n",
      "  -0.3606232   0.41376882 -0.50955342 -3.57356841  2.61659233  0.0884764\n",
      "   0.60850757 -0.12413669 -0.58052313  2.38607399 -1.05280288  0.23448334\n",
      "   0.63669222 -0.773552  ]]\n",
      "-35.35012983417641\n"
     ]
    }
   ],
   "source": [
    "theta_0 = multivariate_normal.rvs(mean=np.zeros(dim_x), cov=np.eye(dim_x))\n",
    "X = p_theta_x(theta_0).rvs(size=N_sample)\n",
    "print(X[:2])\n",
    "\n",
    "l_true = np.mean(np.log(p_theta_x(theta_0).pdf(X)))\n",
    "print(l_true)"
   ]
  },
  {
   "cell_type": "markdown",
   "metadata": {},
   "source": [
    "On définit A et b."
   ]
  },
  {
   "cell_type": "code",
   "execution_count": 69,
   "metadata": {},
   "outputs": [],
   "source": [
    "A = 1 / 2 * np.eye(dim_z, dim_x) #size = dim_z, dim_x\n",
    "b = np.mean(X, axis=0) #size = dim_z, 1"
   ]
  },
  {
   "cell_type": "markdown",
   "metadata": {},
   "source": [
    "On peut donc maintenant définir l'encodeur."
   ]
  },
  {
   "cell_type": "code",
   "execution_count": 70,
   "metadata": {},
   "outputs": [],
   "source": [
    "def q_phi_z_given_x(x):\n",
    "    mu = A @ x + b\n",
    "    covariance = 2 / 3 * np.eye(dim_z)\n",
    "    return multivariate_normal(mean=mu, cov=covariance)"
   ]
  },
  {
   "cell_type": "markdown",
   "metadata": {},
   "source": [
    "On fait tourner l'algorithme décrit dans le papier pour chaque observation."
   ]
  },
  {
   "cell_type": "code",
   "execution_count": 72,
   "metadata": {},
   "outputs": [],
   "source": [
    "l_hat_ml_ss_list = []\n",
    "l_hat_ml_rr_list = []\n",
    "\n",
    "for x in X:\n",
    "    K = p.rvs(r)\n",
    "    size = 2 ** (K + 1)\n",
    "    Z = q_phi_z_given_x(x).rvs(size=size)\n",
    "    Z_E, Z_O = Z[::2], Z[1::2]\n",
    "    log_weights = [np.log(p_theta_z(theta_0).pdf(z) * p_theta_x_given_z(z).pdf(x) / q_phi_z_given_x(x).pdf(z)) for z in Z]\n",
    "    log_weights_E, log_weights_O = log_weights[::2], log_weights[1::2]\n",
    "    I_0 = np.mean(log_weights)\n",
    "    l_hat_E, l_hat_O = logmeanexp(log_weights_E), logmeanexp(log_weights_O)\n",
    "    l_hat_O_E = logmeanexp(log_weights)\n",
    "    delta_K = l_hat_O_E - 0.5 * (l_hat_O + l_hat_E)\n",
    "    l_hat_ml_ss_x = I_0 + delta_K / p(r).pmf(K)\n",
    "    l_hat_ml_ss_list.append(l_hat_ml_ss_x)\n",
    "    delta_k_list = [logmeanexp(log_weights[:2**(k+1)]) - 0.5 * (logmeanexp(log_weights_O[:2**k]) + logmeanexp(log_weights_E[:2**k])) for k in range(K+1)]\n",
    "    l_hat_ml_rr_x = I_0 + np.sum([delta_k_list[k] / (1 - p(r).cdf(k-1)) for k in range(K+1)])\n",
    "    l_hat_ml_rr_list.append(l_hat_ml_rr_x)\n"
   ]
  },
  {
   "cell_type": "markdown",
   "metadata": {},
   "source": [
    "On calcule les estimateurs finaux et les biais empiriques."
   ]
  },
  {
   "cell_type": "code",
   "execution_count": 73,
   "metadata": {},
   "outputs": [
    {
     "name": "stdout",
     "output_type": "stream",
     "text": [
      "estimateur ss = -36.95528682955278\n",
      "estimateur rr = -35.70554390511783\n",
      "carré du biais empirique de l'estimateur ss : 2.5765289798057154\n",
      "carré du biais empirique de l'estimateur rr : 0.12631916182315364\n"
     ]
    }
   ],
   "source": [
    "l_hat_ml_ss = np.mean(l_hat_ml_ss_list)\n",
    "print(\"estimateur ss =\", l_hat_ml_ss)\n",
    "\n",
    "l_hat_ml_rr = np.mean(l_hat_ml_rr_list)\n",
    "print(\"estimateur rr =\", l_hat_ml_rr)\n",
    "\n",
    "empirical_bias_squared_ss = (l_hat_ml_ss - l_true) ** 2\n",
    "print(\"carré du biais empirique de l'estimateur ss :\", empirical_bias_squared_ss)\n",
    "\n",
    "empirical_bias_squared_rr = (l_hat_ml_rr - l_true) ** 2\n",
    "print(\"carré du biais empirique de l'estimateur rr :\", empirical_bias_squared_rr)"
   ]
  }
 ],
 "metadata": {
  "kernelspec": {
   "display_name": "base",
   "language": "python",
   "name": "python3"
  },
  "language_info": {
   "codemirror_mode": {
    "name": "ipython",
    "version": 3
   },
   "file_extension": ".py",
   "mimetype": "text/x-python",
   "name": "python",
   "nbconvert_exporter": "python",
   "pygments_lexer": "ipython3",
   "version": "3.11.6"
  }
 },
 "nbformat": 4,
 "nbformat_minor": 2
}
