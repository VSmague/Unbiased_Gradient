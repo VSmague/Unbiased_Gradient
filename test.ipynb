{
 "cells": [
  {
   "cell_type": "code",
   "execution_count": 2,
   "metadata": {},
   "outputs": [],
   "source": [
    "import numpy as np\n",
    "from scipy.stats import geom, multivariate_normal"
   ]
  },
  {
   "cell_type": "code",
   "execution_count": 8,
   "metadata": {},
   "outputs": [],
   "source": [
    "dim_x = 20\n",
    "dim_z = 20\n",
    "A = np.random.randn(dim_z, dim_x) #size = dim_z, dim_x\n",
    "b = np.random.randn(dim_z) #size = dim_z, 1\n",
    "\n",
    "def q_phi_z_given_x(x):\n",
    "    mu = A @ x + b\n",
    "    covariance = 2 / 3 * np.eye(dim_z)\n",
    "    return multivariate_normal(mean=mu, cov=covariance)\n",
    "\n",
    "def p_theta_x(theta):\n",
    "    mu = theta\n",
    "    covariance = 2 * np.eye(dim_x)\n",
    "    return multivariate_normal(mean=mu, cov=covariance)\n",
    "\n",
    "def p_theta_x_given_z(z):\n",
    "    mu = z\n",
    "    covariance = np.eye(dim_x)\n",
    "    return multivariate_normal(mean=mu, cov=covariance)\n",
    "\n",
    "def p_theta_z(theta):\n",
    "    mu = theta\n",
    "    covariance = np.eye(dim_z)\n",
    "    return multivariate_normal(mean=mu, cov=covariance)\n",
    "\n",
    "p = geom\n",
    "r = 0.6\n",
    "\n",
    "def logmeanexp(data, axis=None):\n",
    "    max_val = np.max(data, axis=axis)\n",
    "    return max_val + np.log(np.mean(np.exp(data - max_val), axis=axis))"
   ]
  },
  {
   "cell_type": "code",
   "execution_count": 9,
   "metadata": {},
   "outputs": [
    {
     "name": "stdout",
     "output_type": "stream",
     "text": [
      "2\n"
     ]
    }
   ],
   "source": [
    "K = p.rvs(r)\n",
    "size = 2 ** (K + 1)\n",
    "print(K)"
   ]
  },
  {
   "cell_type": "code",
   "execution_count": 10,
   "metadata": {},
   "outputs": [
    {
     "name": "stdout",
     "output_type": "stream",
     "text": [
      "[[6.31808303 8.77390846 4.92366596 8.98551383 9.57757736 7.98199988\n",
      "  9.22903095 7.60030339 8.27494886 6.82415486 9.56223437 7.87599692\n",
      "  7.58798954 7.01971754 8.56033027 4.84650841 8.67616978 8.71427736\n",
      "  7.22697844 5.90048991]\n",
      " [6.58072881 8.52310897 6.49357977 8.05206245 7.49476588 6.54311708\n",
      "  8.73654386 9.58364853 6.9224876  9.58189245 7.41368046 7.55969776\n",
      "  7.76921688 5.36654986 8.35403714 9.40126566 7.52888284 5.58893039\n",
      "  7.02168903 8.01527305]]\n",
      "(8, 20)\n"
     ]
    }
   ],
   "source": [
    "theta_0 = [8] * dim_x\n",
    "theta_0 = np.array(theta_0)\n",
    "X = p_theta_x(theta_0).rvs(size=size)\n",
    "print(X[:2])\n",
    "print(X.shape)"
   ]
  },
  {
   "cell_type": "code",
   "execution_count": 19,
   "metadata": {},
   "outputs": [
    {
     "name": "stderr",
     "output_type": "stream",
     "text": [
      "/tmp/ipykernel_32555/2516158896.py:8: RuntimeWarning: divide by zero encountered in log\n",
      "  log_weights[i] = np.log(p_theta_z(theta_0).pdf(z) * p_theta_x_given_z(z).pdf(x) / q_phi_z_given_x(x).pdf(z))\n"
     ]
    }
   ],
   "source": [
    "Z = [q_phi_z_given_x(x).rvs() for x in X]\n",
    "Z_E, Z_O = Z[::2], Z[1::2]\n",
    "#weights = [p_theta_z(theta_0).pdf(z) * p_theta_x_given_z(z).pdf(x) / q_phi_z_given_x(x).pdf(z) for z in Z] si un seul x\n",
    "log_weights = np.zeros(size)\n",
    "for i in range(size):\n",
    "    z = Z[i]\n",
    "    x = X[i]\n",
    "    log_weights[i] = np.log(p_theta_z(theta_0).pdf(z) * p_theta_x_given_z(z).pdf(x) / q_phi_z_given_x(x).pdf(z))\n",
    "\n",
    "log_weights_E, log_weights_O = log_weights[::2], log_weights[1::2]\n",
    "I_0 = np.mean(log_weights)\n"
   ]
  },
  {
   "cell_type": "code",
   "execution_count": 20,
   "metadata": {},
   "outputs": [
    {
     "name": "stderr",
     "output_type": "stream",
     "text": [
      "/tmp/ipykernel_32555/3376569390.py:31: RuntimeWarning: invalid value encountered in subtract\n",
      "  return max_val + np.log(np.mean(np.exp(data - max_val), axis=axis))\n"
     ]
    }
   ],
   "source": [
    "l_hat_E, l_hat_O = logmeanexp(log_weights_E), logmeanexp(log_weights_O)\n",
    "l_hat_O_E = logmeanexp(log_weights)\n",
    "\n",
    "delta_K = l_hat_O_E - 0.5 * (l_hat_O + l_hat_E)\n",
    "\n",
    "l_hat_ml_ss = I_0 + delta_K / p(r).pmf(K)"
   ]
  },
  {
   "cell_type": "code",
   "execution_count": 21,
   "metadata": {},
   "outputs": [
    {
     "name": "stderr",
     "output_type": "stream",
     "text": [
      "/tmp/ipykernel_32555/3376569390.py:31: RuntimeWarning: invalid value encountered in subtract\n",
      "  return max_val + np.log(np.mean(np.exp(data - max_val), axis=axis))\n"
     ]
    }
   ],
   "source": [
    "delta_k_list = [logmeanexp(log_weights[:2**(k+1)]) - 0.5 * (logmeanexp(log_weights_O[:2**k]) + logmeanexp(log_weights_E[:2**k])) for k in range(K+1)]\n",
    "l_hat_ml_rr = I_0 + np.sum([delta_k_list[k] / p(r).pmf(k) for k in range(K+1)])"
   ]
  }
 ],
 "metadata": {
  "kernelspec": {
   "display_name": "base",
   "language": "python",
   "name": "python3"
  },
  "language_info": {
   "codemirror_mode": {
    "name": "ipython",
    "version": 3
   },
   "file_extension": ".py",
   "mimetype": "text/x-python",
   "name": "python",
   "nbconvert_exporter": "python",
   "pygments_lexer": "ipython3",
   "version": "3.11.6"
  }
 },
 "nbformat": 4,
 "nbformat_minor": 2
}
