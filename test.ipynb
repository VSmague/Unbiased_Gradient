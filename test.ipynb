{
 "cells": [
  {
   "cell_type": "code",
   "execution_count": 57,
   "metadata": {},
   "outputs": [],
   "source": [
    "import numpy as np\n",
    "from scipy.stats import geom, multivariate_normal"
   ]
  },
  {
   "cell_type": "code",
   "execution_count": 58,
   "metadata": {},
   "outputs": [],
   "source": [
    "N_sample = 1024\n",
    "dim_x = 20\n",
    "dim_z = 20\n",
    "r = 0.6"
   ]
  },
  {
   "cell_type": "code",
   "execution_count": 59,
   "metadata": {},
   "outputs": [
    {
     "name": "stdout",
     "output_type": "stream",
     "text": [
      "[[-1.22164858 -2.83952442  0.66721368  0.15193476  1.38345634 -0.5949272\n",
      "   3.33365593  0.84768791 -0.71865092 -1.62451219 -0.23458977  0.11126794\n",
      "  -2.83874075  1.02852013  0.82231303 -1.37545318 -0.34342638 -0.8384008\n",
      "  -0.27486895 -1.24532479]\n",
      " [-0.70715156  2.96298072  0.06447447  1.35593835 -1.43705895  1.1619806\n",
      "   1.78434866 -2.92224567 -1.59076792 -0.25269577  0.72233426 -1.25100265\n",
      "  -0.47656747  2.67328624  1.43685174 -0.91295929 -1.68032872 -0.2067967\n",
      "  -1.54216026 -1.11102375]]\n",
      "-35.27464895661948\n"
     ]
    }
   ],
   "source": [
    "theta_0 = multivariate_normal.rvs(mean=np.zeros(dim_x), cov=np.eye(dim_x))\n",
    "X = p_theta_x(theta_0).rvs(size=N_sample)\n",
    "print(X[:2])\n",
    "\n",
    "true_l = np.mean(np.log(p_theta_x(theta_0).pdf(X)))\n",
    "print(true_l)"
   ]
  },
  {
   "cell_type": "code",
   "execution_count": 60,
   "metadata": {},
   "outputs": [],
   "source": [
    "A = 1 / 2 * np.eye(dim_z, dim_x) #size = dim_z, dim_x\n",
    "b = np.mean(X, axis=0) #size = dim_z, 1"
   ]
  },
  {
   "cell_type": "code",
   "execution_count": 61,
   "metadata": {},
   "outputs": [],
   "source": [
    "def q_phi_z_given_x(x):\n",
    "    mu = A @ x + b\n",
    "    covariance = 2 / 3 * np.eye(dim_z)\n",
    "    return multivariate_normal(mean=mu, cov=covariance)\n",
    "\n",
    "def p_theta_x(theta):\n",
    "    mu = theta\n",
    "    covariance = 2 * np.eye(dim_x)\n",
    "    return multivariate_normal(mean=mu, cov=covariance)\n",
    "\n",
    "def p_theta_x_given_z(z):\n",
    "    mu = z\n",
    "    covariance = np.eye(dim_x)\n",
    "    return multivariate_normal(mean=mu, cov=covariance)\n",
    "\n",
    "def p_theta_z(theta):\n",
    "    mu = theta\n",
    "    covariance = np.eye(dim_z)\n",
    "    return multivariate_normal(mean=mu, cov=covariance)\n",
    "\n",
    "p = geom\n",
    "\n",
    "def logmeanexp(data, axis=None):\n",
    "    max_val = np.max(data, axis=axis)\n",
    "    return max_val + np.log(np.mean(np.exp(data - max_val), axis=axis))"
   ]
  },
  {
   "cell_type": "code",
   "execution_count": 62,
   "metadata": {},
   "outputs": [],
   "source": [
    "l_hat_ml_ss_list = []\n",
    "l_hat_ml_rr_list = []"
   ]
  },
  {
   "cell_type": "code",
   "execution_count": 63,
   "metadata": {},
   "outputs": [],
   "source": [
    "for x in X:\n",
    "    K = p.rvs(r)\n",
    "    size = 2 ** (K + 1)\n",
    "    Z = q_phi_z_given_x(x).rvs(size=size)\n",
    "    Z_E, Z_O = Z[::2], Z[1::2]\n",
    "    log_weights = [np.log(p_theta_z(theta_0).pdf(z) * p_theta_x_given_z(z).pdf(x) / q_phi_z_given_x(x).pdf(z)) for z in Z]\n",
    "    log_weights_E, log_weights_O = log_weights[::2], log_weights[1::2]\n",
    "    I_0 = np.mean(log_weights)\n",
    "    l_hat_E, l_hat_O = logmeanexp(log_weights_E), logmeanexp(log_weights_O)\n",
    "    l_hat_O_E = logmeanexp(log_weights)\n",
    "    delta_K = l_hat_O_E - 0.5 * (l_hat_O + l_hat_E)\n",
    "    l_hat_ml_ss_x = I_0 + delta_K / p(r).pmf(K)\n",
    "    l_hat_ml_ss_list.append(l_hat_ml_ss_x)\n",
    "    delta_k_list = [logmeanexp(log_weights[:2**(k+1)]) - 0.5 * (logmeanexp(log_weights_O[:2**k]) + logmeanexp(log_weights_E[:2**k])) for k in range(K+1)]\n",
    "    l_hat_ml_rr_x = I_0 + np.sum([delta_k_list[k] / (1 - p(r).cdf(k-1)) for k in range(K+1)])\n",
    "    l_hat_ml_rr_list.append(l_hat_ml_rr_x)\n"
   ]
  },
  {
   "cell_type": "code",
   "execution_count": 64,
   "metadata": {},
   "outputs": [
    {
     "name": "stdout",
     "output_type": "stream",
     "text": [
      "estimateur ss = -36.46771081971367\n",
      "estimateur rr = -35.23149816529057\n"
     ]
    }
   ],
   "source": [
    "l_hat_ml_ss = np.mean(l_hat_ml_ss_list)\n",
    "print(\"estimateur ss =\", l_hat_ml_ss)\n",
    "\n",
    "l_hat_ml_rr = np.mean(l_hat_ml_rr_list)\n",
    "print(\"estimateur rr =\", l_hat_ml_rr)"
   ]
  }
 ],
 "metadata": {
  "kernelspec": {
   "display_name": "base",
   "language": "python",
   "name": "python3"
  },
  "language_info": {
   "codemirror_mode": {
    "name": "ipython",
    "version": 3
   },
   "file_extension": ".py",
   "mimetype": "text/x-python",
   "name": "python",
   "nbconvert_exporter": "python",
   "pygments_lexer": "ipython3",
   "version": "3.11.6"
  }
 },
 "nbformat": 4,
 "nbformat_minor": 2
}
