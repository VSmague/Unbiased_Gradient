{
 "cells": [
  {
   "cell_type": "code",
   "execution_count": null,
   "metadata": {},
   "outputs": [],
   "source": [
    "import numpy as np\n",
    "from scipy.stats import multivariate_normal\n",
    "\n",
    "N = 5000\n",
    "\n",
    "# Simuler les échantillons de X_n à partir d'une distribution normale multivariée\n",
    "draw_X_n = np.random.multivariate_normal(mean=Exp_X_in_A_hat, cov=Var_X_in_A_hat, size=N)\n",
    "\n",
    "# Fonction f_u\n",
    "def f_u(x, C):\n",
    "    I_x_in_A = np.abs(np.prod(x)) < C\n",
    "    return I_x_in_A * multivariate_normal.pdf(x)\n",
    "\n",
    "# Fonction g\n",
    "def g(x, mu, sigma):\n",
    "    return multivariate_normal.pdf(x, mean=mu, cov=sigma)\n",
    "\n",
    "C =  0.02042 # Définir la valeur de C ici\n",
    "\n",
    "# Appliquer les fonctions f_u et g à chaque ligne de draw_X_n\n",
    "veca_fu_Xn = np.apply_along_axis(f_u, 1, draw_X_n, C=C)\n",
    "veca_g_Xn = np.apply_along_axis(g, 1, draw_X_n, mu=Exp_X_in_A_hat, sigma=Var_X_in_A_hat)\n",
    "\n",
    "# Calculer les poids d'importance\n",
    "veca_w_n = veca_fu_Xn / veca_g_Xn\n",
    "\n",
    "# Calculer phi(X_n)\n",
    "veca_phi_Xn = np.exp(draw_X_n[:, 0])\n",
    "\n",
    "# Calcul de I_AIS_hat\n",
    "I_AIS_hat = np.sum(veca_w_n * veca_phi_Xn) / np.sum(veca_w_n)\n",
    "\n",
    "print(\"Estimation de l'intégrale I_AIS_hat:\", I_AIS_hat)\n",
    "\n",
    "# Calcul de l'Effective Sample Size (ESS)\n",
    "ESS = (np.sum(veca_w_n)**2) / np.sum(veca_w_n**2)\n",
    "print(\"ESS:\", ESS)\n",
    "print(\"ESS/N:\", ESS / N)\n"
   ]
  },
  {
   "cell_type": "code",
   "execution_count": 7,
   "metadata": {},
   "outputs": [],
   "source": [
    "import numpy as np\n",
    "from scipy.stats import geom, multivariate_normal"
   ]
  },
  {
   "cell_type": "code",
   "execution_count": 25,
   "metadata": {},
   "outputs": [],
   "source": [
    "n_x = 20\n",
    "n_z = 20\n",
    "#A = size = n_z, n_x\n",
    "#b = size = n_z, 1\n",
    "\n",
    "def q_phi(x):\n",
    "    mu = A @ x + b\n",
    "    covariance = 2 / 3 * np.eye(n_z)\n",
    "    return multivariate_normal(mean=mu, cov=covariance)\n",
    "\n",
    "def p_theta(theta):\n",
    "    mu = theta\n",
    "    covariance = 2 * np.eye(n_x)\n",
    "    return multivariate_normal(mean=mu, cov=covariance)\n",
    "\n",
    "\n",
    "p = geom\n",
    "r = 0.6\n",
    "\n",
    "def logmeanexp(data, axis=None):\n",
    "    max_val = np.max(data, axis=axis)\n",
    "    return max_val + np.log(np.mean(np.exp(data - max_val), axis=axis))"
   ]
  },
  {
   "cell_type": "code",
   "execution_count": 26,
   "metadata": {},
   "outputs": [
    {
     "name": "stdout",
     "output_type": "stream",
     "text": [
      "2\n"
     ]
    }
   ],
   "source": [
    "K = p.rvs(r)\n",
    "size = 2 ** (K + 1)\n",
    "print(K)"
   ]
  },
  {
   "cell_type": "code",
   "execution_count": 28,
   "metadata": {},
   "outputs": [
    {
     "name": "stdout",
     "output_type": "stream",
     "text": [
      "[[10.39372103  8.68755823  5.84467229  8.92574378  9.08096052  8.78809824\n",
      "   7.63914739  8.08935144 10.02922037  8.35101676  9.43272134  8.29711435\n",
      "  11.50418091  7.37181221  8.9949366   8.26306531  6.35983849  9.01805278\n",
      "   8.25159074  7.89582744]\n",
      " [ 7.9270498  10.27912898  7.29729961  8.66972203  5.88810756  6.81413772\n",
      "   7.9654202   7.24006097  7.39015918  8.21071029  9.00348358  8.55976559\n",
      "   8.38678394  7.74994033  6.93559289 11.68621609  7.67277628  7.14522808\n",
      "   8.59745059  8.91917255]\n",
      " [ 9.43998424  7.38944069 10.61091138  9.62776671  8.20645951  7.78514769\n",
      "   8.09071253  9.06579147  5.90123187 10.65243503  7.14346146  7.77658851\n",
      "   8.34045982  7.50815921  9.78297965  8.48136982  9.60607478  7.39222629\n",
      "   5.69609082  8.11278619]\n",
      " [ 8.7908258   9.24320342  8.80215658  6.02725951  8.85188626  8.61287573\n",
      "   5.60805877  6.58885413  7.22954991  8.73905306  6.44001446  5.83294372\n",
      "  10.38775159  7.68989913  7.76793345  7.55504057 10.31540877  8.29254734\n",
      "   6.58447574  8.65969187]\n",
      " [ 8.24044638  5.80789161  9.210461    7.69734024  6.81013798  7.96983219\n",
      "   8.96868002  7.03512565  7.10958336  7.14150079 10.24472766  6.21550244\n",
      "   6.48976552  8.92789372 11.03446375  8.04640695  6.36816966  8.96302658\n",
      "   9.90917038  8.29046817]\n",
      " [ 7.70804259  7.85444636  8.56363857  8.78759532  8.09535895  6.60315024\n",
      "   6.69305399 10.18799055  5.27081084  7.44444983  8.97443328  7.96978404\n",
      "   6.88165972  9.00425306  8.42631633  9.22347277  8.60590342  6.24800014\n",
      "   7.08574134  6.34981061]\n",
      " [11.85540222  9.03365641  8.5530711   7.0283056   9.0303513   9.06665367\n",
      "   6.0774774   6.90963011  7.6704592   8.13803389  8.85100647  7.71402419\n",
      "  10.12273557 10.69348869  8.97681975  6.64535392  7.04235548  6.85439717\n",
      "   6.7563329   9.49192259]\n",
      " [ 8.26281315  5.85030699  6.53628881  7.39780645  7.34754952  8.91477624\n",
      "   7.922691    6.62307204  8.87627817  9.84400845  7.47379596  6.1385684\n",
      "   7.50458827  7.62889185  9.18893168  7.90902973  8.05582492  7.26162501\n",
      "   9.98353552  7.97991201]]\n",
      "(8, 20)\n"
     ]
    }
   ],
   "source": [
    "theta_0 = [8] * n_x\n",
    "theta_0 = np.array(theta_0)\n",
    "X = p_theta(theta_0).rvs(size=size)\n",
    "print(X)\n",
    "print(X.shape)"
   ]
  },
  {
   "cell_type": "code",
   "execution_count": null,
   "metadata": {},
   "outputs": [],
   "source": [
    "Z = [q_phi(x).rvs() for x in X]\n",
    "Z_E, Z_O = Z[::2], Z[1::2]\n",
    "weights = \n",
    "log_weights = log(weights)\n",
    "I_0 = np.mean(log_weights)\n"
   ]
  }
 ],
 "metadata": {
  "kernelspec": {
   "display_name": "base",
   "language": "python",
   "name": "python3"
  },
  "language_info": {
   "codemirror_mode": {
    "name": "ipython",
    "version": 3
   },
   "file_extension": ".py",
   "mimetype": "text/x-python",
   "name": "python",
   "nbconvert_exporter": "python",
   "pygments_lexer": "ipython3",
   "version": "3.11.6"
  }
 },
 "nbformat": 4,
 "nbformat_minor": 2
}
